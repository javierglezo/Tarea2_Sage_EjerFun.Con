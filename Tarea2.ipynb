{
 "cells": [
  {
   "cell_type": "code",
   "execution_count": 1,
   "metadata": {
    "collapsed": false
   },
   "outputs": [
    {
     "name": "stdout",
     "output_type": "stream",
     "text": [
      "aproximación(-): -4, aproximación(+): -3 \n"
     ]
    }
   ],
   "source": [
    "#Ejercicio1\n",
    "a = -3.56\n",
    "b = floor(a)\n",
    "c = ceil(a)\n",
    "\n",
    "print(f\"aproximación(-): {b}, aproximación(+): {c} \")"
   ]
  },
  {
   "cell_type": "code",
   "execution_count": 2,
   "metadata": {
    "collapsed": false
   },
   "outputs": [
    {
     "name": "stdout",
     "output_type": "stream",
     "text": [
      "4.605170185988092\n"
     ]
    }
   ],
   "source": [
    "#Ejercicio2\n",
    "print(float(log(100, e)))"
   ]
  },
  {
   "cell_type": "code",
   "execution_count": 1,
   "metadata": {
    "collapsed": false
   },
   "outputs": [
    {
     "name": "stdout",
     "output_type": "stream",
     "text": [
      "2.0\n"
     ]
    }
   ],
   "source": [
    "#Ejercicio3\n",
    "print(float(log(100, 10)))"
   ]
  },
  {
   "cell_type": "code",
   "execution_count": 4,
   "metadata": {
    "collapsed": false
   },
   "outputs": [
    {
     "name": "stdout",
     "output_type": "stream",
     "text": [
      "cociente: 2.30258509299405\n"
     ]
    }
   ],
   "source": [
    "#Ejercicio4\n",
    "#Suponiendo que pide encontrar el cociente de los apartados 2 (4.605170185988092) y 3 (2):\n",
    "a = 4.605170185988092\n",
    "b = 2\n",
    "#Cociente:\n",
    "print(f\"cociente: {a/b}\")"
   ]
  },
  {
   "cell_type": "code",
   "execution_count": 1,
   "metadata": {
    "collapsed": false
   },
   "outputs": [
    {
     "name": "stdout",
     "output_type": "stream",
     "text": [
      "6\n"
     ]
    }
   ],
   "source": [
    "#Ejercicio5\n",
    "print(log(64, 2))"
   ]
  },
  {
   "cell_type": "code",
   "execution_count": 4,
   "metadata": {
    "collapsed": false
   },
   "outputs": [
    {
     "name": "stdout",
     "output_type": "stream",
     "text": [
      "(-1, 3.14159265358979)\n"
     ]
    }
   ],
   "source": [
    "#Ejercicio6\n",
    "a = e^(i*pi)\n",
    "print((a, pi.n()))"
   ]
  },
  {
   "cell_type": "code",
   "execution_count": 7,
   "metadata": {
    "collapsed": false
   },
   "outputs": [
    {
     "name": "stdout",
     "output_type": "stream",
     "text": [
      "1, 1, 5.125830895483013\n"
     ]
    }
   ],
   "source": [
    "#Ejercicio7 (radianes)\n",
    "\n",
    "rad_a = sin(pi/2)\n",
    "rad_b = cot(pi/4)\n",
    "rad_c = float(csc(pi/16))\n",
    "\n",
    "print(f\"{rad_a}, {rad_b}, {rad_c}\")"
   ]
  }
 ],
 "metadata": {
  "kernelspec": {
   "argv": [
    "sage-10.1",
    "--python",
    "-m",
    "sage.repl.ipython_kernel",
    "--matplotlib=inline",
    "-f",
    "{connection_file}"
   ],
   "display_name": "SageMath 10.1",
   "env": {
   },
   "language": "sagemath",
   "metadata": {
    "cocalc": {
     "description": "Open-source mathematical software system",
     "priority": 10,
     "url": "https://www.sagemath.org/"
    }
   },
   "name": "sage-10.1",
   "resource_dir": "/ext/jupyter/kernels/sage-10.1"
  },
  "language_info": {
   "codemirror_mode": {
    "name": "ipython",
    "version": 3
   },
   "file_extension": ".py",
   "mimetype": "text/x-python",
   "name": "python",
   "nbconvert_exporter": "python",
   "pygments_lexer": "ipython3",
   "version": "3.11.1"
  }
 },
 "nbformat": 4,
 "nbformat_minor": 4
}